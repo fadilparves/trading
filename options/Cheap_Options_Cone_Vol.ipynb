{
 "cells": [
  {
   "cell_type": "markdown",
   "id": "87370d46",
   "metadata": {},
   "source": [
    "### The hardest part of options trading is determining if they are cheap or expensive. Whether you buy or sell an option, you’re exposed to the volatility of the underlying. That’s why it’s important to compare volatility to its recent levels."
   ]
  },
  {
   "cell_type": "code",
   "execution_count": 1,
   "id": "477ffc24",
   "metadata": {},
   "outputs": [],
   "source": [
    "%matplotlib inline\n",
    "\n",
    "import yfinance as yf\n",
    "import numpy as np\n",
    "import math\n",
    "import matplotlib.pyplot as plt"
   ]
  },
  {
   "cell_type": "code",
   "execution_count": 2,
   "id": "74b9e5e5",
   "metadata": {},
   "outputs": [],
   "source": [
    "\"\"\"\n",
    "windows defines the number of days \n",
    "I want to use to compute volatility. \n",
    "quantiles defines the percentage of the top and bottom 25% of values.\n",
    "\"\"\"\n",
    "\n",
    "windows = [30, 60, 90, 120]\n",
    "quantiles = [.25, .75]\n",
    "\n",
    "min_ = []\n",
    "max_ = []\n",
    "median = []\n",
    "top_q = []\n",
    "bottom_q = []\n",
    "realized = []"
   ]
  },
  {
   "cell_type": "code",
   "execution_count": 3,
   "id": "399ec76f",
   "metadata": {},
   "outputs": [
    {
     "name": "stdout",
     "output_type": "stream",
     "text": [
      "[*********************100%***********************]  1 of 1 completed\n"
     ]
    }
   ],
   "source": [
    "data = yf.download(\"JPM\", start=\"2021-01-01\", end='2021-12-31')"
   ]
  },
  {
   "cell_type": "markdown",
   "id": "745b4a09",
   "metadata": {},
   "source": [
    "### Realized volatility is a measurement of how much the price or returns of stock vary. It’s used to optimize portfolios, detect regime changes, and price derivatives"
   ]
  },
  {
   "cell_type": "code",
   "execution_count": 4,
   "id": "95dc9fca",
   "metadata": {},
   "outputs": [],
   "source": [
    "def realized_vol(price_data, window=30):\n",
    "    log_return = (price_data['Close'] / price_data['Close'].shift(1)).apply(np.log)\n",
    "    \n",
    "    return log_return.rolling(window=window, center=False).std() * math.sqrt(252)"
   ]
  },
  {
   "cell_type": "code",
   "execution_count": null,
   "id": "6ef2462f",
   "metadata": {},
   "outputs": [],
   "source": [
    "for window in windows:\n",
    "    \n",
    "    estimator = realized_vol(window=window, price_data=data)\n",
    "    \n",
    "    min_.append(estimator.min())\n",
    "    max_.append(estimator.max())\n",
    "    median.append(estimator.median())\n",
    "    top_q.append(estimator.quantile(r))"
   ]
  }
 ],
 "metadata": {
  "kernelspec": {
   "display_name": "Python 3 (ipykernel)",
   "language": "python",
   "name": "python3"
  },
  "language_info": {
   "codemirror_mode": {
    "name": "ipython",
    "version": 3
   },
   "file_extension": ".py",
   "mimetype": "text/x-python",
   "name": "python",
   "nbconvert_exporter": "python",
   "pygments_lexer": "ipython3",
   "version": "3.9.7"
  }
 },
 "nbformat": 4,
 "nbformat_minor": 5
}
