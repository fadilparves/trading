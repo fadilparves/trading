{
 "cells": [
  {
   "cell_type": "markdown",
   "id": "c1bcbb4d",
   "metadata": {},
   "source": [
    "### Fund managers report their holdings every month. They don’t want to tell investors they lost money on meme stocks. So at the end of the month, they sell low-quality assets and buy high-quality assets, like bonds.\n",
    "\n",
    "### We might be able to take advantage of this by buying bonds at the end of the month and selling them at the beginning of the month.\n",
    "\n",
    "### Why does this work? The edge is probably too messy, too small, or just not interesting to professionals. Which makes it perfect for us."
   ]
  },
  {
   "cell_type": "code",
   "execution_count": 1,
   "id": "825ec4b5",
   "metadata": {},
   "outputs": [],
   "source": [
    "import pandas as pd\n",
    "import numpy as np\n",
    "import yfinance as yf\n",
    "\n",
    "%matplotlib inline"
   ]
  },
  {
   "cell_type": "code",
   "execution_count": null,
   "id": "a2ba255b",
   "metadata": {},
   "outputs": [],
   "source": [
    "tlt = yf.download(\"TLT\", start=\"2002-01-01\", end=\"2022-12-04\")"
   ]
  }
 ],
 "metadata": {
  "kernelspec": {
   "display_name": "Python 3 (ipykernel)",
   "language": "python",
   "name": "python3"
  },
  "language_info": {
   "codemirror_mode": {
    "name": "ipython",
    "version": 3
   },
   "file_extension": ".py",
   "mimetype": "text/x-python",
   "name": "python",
   "nbconvert_exporter": "python",
   "pygments_lexer": "ipython3",
   "version": "3.9.7"
  }
 },
 "nbformat": 4,
 "nbformat_minor": 5
}
