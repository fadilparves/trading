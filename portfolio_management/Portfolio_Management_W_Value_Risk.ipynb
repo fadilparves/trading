{
 "cells": [
  {
   "cell_type": "markdown",
   "id": "1046ea21",
   "metadata": {},
   "source": [
    "### VaR is one way professional traders manage risk. It estimates how much your portfolio might lose over a set time period. Using VaR is a good way to avoid losing all your money if the market moves against you.\n",
    "\n",
    "### VaR lets you say something like this:\n",
    "\n",
    "### “With 95% confidence, my portfolio’s loss will not exceed 750 USD in one day.\n",
    "\n",
    "### Unfortunately, most non-professional traders don’t use VaR. They either don’t know it exists or think it’s too complicated to use."
   ]
  },
  {
   "cell_type": "code",
   "execution_count": 1,
   "id": "dc252059",
   "metadata": {},
   "outputs": [],
   "source": [
    "%matplotlib inline\n",
    "\n",
    "import pandas as pd\n",
    "import numpy as np\n",
    "import yfinance as yf\n",
    "from scipy.stats import norm\n",
    "import matplotlib.pyplot as plt"
   ]
  },
  {
   "cell_type": "code",
   "execution_count": 4,
   "id": "607d1f61",
   "metadata": {},
   "outputs": [],
   "source": [
    "tickers = ['AAPL', 'META', 'C', 'DIS']\n",
    "\n",
    "weights = np.array([0.25, 0.3, 0.15, 0.3])\n",
    "\n",
    "portfolio_value = 1_000\n",
    "\n",
    "confidence = 0.05"
   ]
  },
  {
   "cell_type": "code",
   "execution_count": 5,
   "id": "abf3c9fb",
   "metadata": {},
   "outputs": [
    {
     "name": "stdout",
     "output_type": "stream",
     "text": [
      "[*********************100%***********************]  4 of 4 completed\n"
     ]
    }
   ],
   "source": [
    "data = yf.download(tickers, start='2018-01-01', end='2021-12-31')['Close']"
   ]
  },
  {
   "cell_type": "markdown",
   "id": "28587249",
   "metadata": {},
   "source": [
    "### Computing portfolio returns is not as simple as just adding up the returns of the individual stocks. We need to take the covariance between the stocks in the portfolio into account."
   ]
  },
  {
   "cell_type": "code",
   "execution_count": 6,
   "id": "452ca2c0",
   "metadata": {},
   "outputs": [],
   "source": [
    "returns = data.pct_change()\n",
    "\n",
    "mean_returns = returns.mean()\n",
    "\n",
    "port_mean = mean_returns.dot(weights)\n",
    "\n",
    "investment_mean = (1 + port_mean) * portfolio_value\n",
    "\n",
    "cov_matrix = returns.cov()\n",
    "\n",
    "port_stdev = np.sqrt(weights.T.dot(cov_matrix).dot(weights))\n",
    "\n",
    "investment_stdev = portfolio_value * port_stdev"
   ]
  },
  {
   "cell_type": "markdown",
   "id": "2aacecb0",
   "metadata": {},
   "source": [
    "### To find the VaR of this portfolio, we start by finding the point on the density plot based on the confidence level, mean, and standard deviation."
   ]
  },
  {
   "cell_type": "code",
   "execution_count": 7,
   "id": "f6649e1b",
   "metadata": {},
   "outputs": [
    {
     "data": {
      "text/plain": [
       "'Portfolio VAR: 28.335597603904944'"
      ]
     },
     "execution_count": 7,
     "metadata": {},
     "output_type": "execute_result"
    }
   ],
   "source": [
    "percent_point = norm.ppf(confidence, investment_mean, investment_stdev)\n",
    "\n",
    "value_at_risk = portfolio_value - percent_point\n",
    "\n",
    "f\"Portfolio VAR: {value_at_risk}\""
   ]
  },
  {
   "cell_type": "markdown",
   "id": "e7379e1b",
   "metadata": {},
   "source": [
    "#### This is the most you can expect to lose in one day with 95% confidence."
   ]
  },
  {
   "cell_type": "markdown",
   "id": "7d7013bd",
   "metadata": {},
   "source": [
    "### What about over one week? Or one month?\n",
    "\n",
    "### Stock returns increase with the square root of time. Therefore to scale the value at risk, we multiply it by the square root of time. This sounds scary but it’s simple in Python.\n",
    "\n",
    "### Multiply the one-day VaR by the square root of one (day) through the square root of 30 (days)."
   ]
  },
  {
   "cell_type": "code",
   "execution_count": 8,
   "id": "36fde3c7",
   "metadata": {},
   "outputs": [
    {
     "data": {
      "text/plain": [
       "[<matplotlib.lines.Line2D at 0x7faab1e5b4f0>]"
      ]
     },
     "execution_count": 8,
     "metadata": {},
     "output_type": "execute_result"
    },
    {
     "data": {
      "image/png": "[encoded data removed]",
      "text/plain": [
       "<Figure size 432x288 with 1 Axes>"
      ]
     },
     "metadata": {
      "needs_background": "light"
     },
     "output_type": "display_data"
    }
   ],
   "source": [
    "value_at_risks = value_at_risk * np.sqrt(range(1, 31))\n",
    "\n",
    "plt.xlabel(\"Day\")\n",
    "plt.ylabel(\"Max Loss\")\n",
    "plt.title(\"Portfolio VAR\")\n",
    "plt.plot(value_at_risks, 'r')"
   ]
  },
  {
   "cell_type": "code",
   "execution_count": null,
   "id": "39212978",
   "metadata": {},
   "outputs": [],
   "source": []
  }
 ],
 "metadata": {
  "kernelspec": {
   "display_name": "Python 3 (ipykernel)",
   "language": "python",
   "name": "python3"
  },
  "language_info": {
   "codemirror_mode": {
    "name": "ipython",
    "version": 3
   },
   "file_extension": ".py",
   "mimetype": "text/x-python",
   "name": "python",
   "nbconvert_exporter": "python",
   "pygments_lexer": "ipython3",
   "version": "3.9.7"
  }
 },
 "nbformat": 4,
 "nbformat_minor": 5
}
