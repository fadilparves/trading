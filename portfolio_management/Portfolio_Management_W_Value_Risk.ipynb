{
 "cells": [
  {
   "cell_type": "markdown",
   "id": "9a9b4924",
   "metadata": {},
   "source": [
    "### VaR is one way professional traders manage risk. It estimates how much your portfolio might lose over a set time period. Using VaR is a good way to avoid losing all your money if the market moves against you.\n",
    "\n",
    "### VaR lets you say something like this:\n",
    "\n",
    "### “With 95% confidence, my portfolio’s loss will not exceed 750 USD in one day.\n",
    "\n",
    "### Unfortunately, most non-professional traders don’t use VaR. They either don’t know it exists or think it’s too complicated to use."
   ]
  },
  {
   "cell_type": "code",
   "execution_count": 1,
   "id": "193c1bed",
   "metadata": {},
   "outputs": [],
   "source": [
    "%matplotlib inline\n",
    "\n",
    "import pandas as pd\n",
    "import numpy as np\n",
    "import yfinance as yf\n",
    "from scipy.stats import norm\n",
    "import matplotlib.pyplot as plt"
   ]
  },
  {
   "cell_type": "code",
   "execution_count": 4,
   "id": "e432ef1e",
   "metadata": {},
   "outputs": [],
   "source": [
    "tickers = ['AAPL', 'META', 'C', 'DIS']\n",
    "\n",
    "weights = np.array([0.25, 0.3, 0.15, 0.3])\n",
    "\n",
    "portfolio_value = 1_000\n",
    "\n",
    "confidence = 0.05"
   ]
  },
  {
   "cell_type": "code",
   "execution_count": 5,
   "id": "95031ab8",
   "metadata": {},
   "outputs": [
    {
     "name": "stdout",
     "output_type": "stream",
     "text": [
      "[*********************100%***********************]  4 of 4 completed\n"
     ]
    }
   ],
   "source": [
    "data = yf.download(tickers, start='2018-01-01', end='2021-12-31')['Close']"
   ]
  },
  {
   "cell_type": "code",
   "execution_count": null,
   "id": "775fac5b",
   "metadata": {},
   "outputs": [],
   "source": []
  }
 ],
 "metadata": {
  "kernelspec": {
   "display_name": "Python 3 (ipykernel)",
   "language": "python",
   "name": "python3"
  },
  "language_info": {
   "codemirror_mode": {
    "name": "ipython",
    "version": 3
   },
   "file_extension": ".py",
   "mimetype": "text/x-python",
   "name": "python",
   "nbconvert_exporter": "python",
   "pygments_lexer": "ipython3",
   "version": "3.9.7"
  }
 },
 "nbformat": 4,
 "nbformat_minor": 5
}
